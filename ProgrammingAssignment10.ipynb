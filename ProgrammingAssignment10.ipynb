{
 "cells": [
  {
   "cell_type": "code",
   "execution_count": 2,
   "id": "71e5d9d5",
   "metadata": {},
   "outputs": [
    {
     "name": "stdout",
     "output_type": "stream",
     "text": [
      "Enter the elements of list:45 67 23 47 90\n",
      "272\n"
     ]
    }
   ],
   "source": [
    "n=list(map(int,input('Enter the elements of list:').split()))\n",
    "print(sum(n))"
   ]
  },
  {
   "cell_type": "code",
   "execution_count": 4,
   "id": "a8b99388",
   "metadata": {},
   "outputs": [
    {
     "name": "stdout",
     "output_type": "stream",
     "text": [
      "Enter the elements of list:2 4 7 9 10\n",
      "5040\n"
     ]
    }
   ],
   "source": [
    "def mul(n):\n",
    "    r=1\n",
    "    for i in n:\n",
    "        r=r*i\n",
    "    return r\n",
    "\n",
    "\n",
    "n=list(map(int,input('Enter the elements of list:').split()))\n",
    "print(mul(n))"
   ]
  },
  {
   "cell_type": "code",
   "execution_count": 12,
   "id": "b8be6a74",
   "metadata": {},
   "outputs": [
    {
     "name": "stdout",
     "output_type": "stream",
     "text": [
      "Enter the elements of list:45 6 7 89 12 34\n",
      "Smallest number is 6\n"
     ]
    }
   ],
   "source": [
    "n=list(map(int,input('Enter the elements of list:').split()))\n",
    "print(f'Smallest number is {min(n)}')"
   ]
  },
  {
   "cell_type": "code",
   "execution_count": 13,
   "id": "a8f559c5",
   "metadata": {},
   "outputs": [
    {
     "name": "stdout",
     "output_type": "stream",
     "text": [
      "Enter the elements of list:45 6 7 89 12 34\n",
      "Largest number is 89\n"
     ]
    }
   ],
   "source": [
    "n=list(map(int,input('Enter the elements of list:').split()))\n",
    "print(f'Largest number is {max(n)}')"
   ]
  },
  {
   "cell_type": "code",
   "execution_count": 14,
   "id": "9d49cbb8",
   "metadata": {},
   "outputs": [
    {
     "name": "stdout",
     "output_type": "stream",
     "text": [
      "Enter the elements of list:45 6 7 89 12 34\n",
      "Second largest number is 45\n"
     ]
    }
   ],
   "source": [
    "n=list(map(int,input('Enter the elements of list:').split()))\n",
    "n=sorted(n)\n",
    "print(f'Second largest number is {n[-2]}')"
   ]
  },
  {
   "cell_type": "code",
   "execution_count": 16,
   "id": "29116ef1",
   "metadata": {},
   "outputs": [
    {
     "name": "stdout",
     "output_type": "stream",
     "text": [
      "Enter the elements of list:45 6 7 89 12 34\n",
      "Enter the number to get element:3\n",
      "3 largest number is 34\n"
     ]
    }
   ],
   "source": [
    "n=list(map(int,input('Enter the elements of list:').split()))\n",
    "N=int(input(\"Enter the number to get element:\"))\n",
    "n=sorted(n,reverse=True)\n",
    "print(f'{N} largest number is {n[N-1]}')"
   ]
  },
  {
   "cell_type": "code",
   "execution_count": 19,
   "id": "ad4afe31",
   "metadata": {},
   "outputs": [
    {
     "name": "stdout",
     "output_type": "stream",
     "text": [
      "Enter the elements of list:45 6 7 89 12 34\n",
      "Copied list is [45, 6, 7, 89, 12, 34]\n"
     ]
    }
   ],
   "source": [
    "n=list(map(int,input('Enter the elements of list:').split()))\n",
    "k=[int(i) for i in n]\n",
    "print(f'Copied list is {k}')"
   ]
  },
  {
   "cell_type": "code",
   "execution_count": 22,
   "id": "2b6290c1",
   "metadata": {},
   "outputs": [
    {
     "name": "stdout",
     "output_type": "stream",
     "text": [
      "Enter the elements of list:45 6 7 89 12 34\n",
      "Even numbers are 6 12 34 "
     ]
    }
   ],
   "source": [
    "n=list(map(int,input('Enter the elements of list:').split()))\n",
    "k=[int(i) for i in n if i%2==0]\n",
    "print('Even numbers are',*k,end=\" \")"
   ]
  },
  {
   "cell_type": "code",
   "execution_count": 23,
   "id": "0a875332",
   "metadata": {},
   "outputs": [
    {
     "name": "stdout",
     "output_type": "stream",
     "text": [
      "Enter the elements of list:45 6 7 89 12 34\n",
      "Odd numbers are 45 7 89 "
     ]
    }
   ],
   "source": [
    "n=list(map(int,input('Enter the elements of list:').split()))\n",
    "k=[int(i) for i in n if i%2!=0]\n",
    "print('Odd numbers are',*k,end=\" \")"
   ]
  },
  {
   "cell_type": "code",
   "execution_count": 26,
   "id": "45ee5b52",
   "metadata": {},
   "outputs": [
    {
     "name": "stdout",
     "output_type": "stream",
     "text": [
      "Enter the elements of list:6 7  4 2 4 5 9 9 9 9\n",
      "Enter the number to find count:9\n",
      "Occurrences of 9 is 4\n"
     ]
    }
   ],
   "source": [
    "n=list(map(int,input('Enter the elements of list:').split()))\n",
    "k=int(input('Enter the number to find count:'))\n",
    "print(f'Occurrences of {k} is {n.count(k)}')"
   ]
  },
  {
   "cell_type": "code",
   "execution_count": 6,
   "id": "36316513",
   "metadata": {},
   "outputs": [
    {
     "name": "stdout",
     "output_type": "stream",
     "text": [
      "Enter the elements:45 7 [8,9] jkim 8.0 []\n"
     ]
    },
    {
     "data": {
      "text/plain": [
       "['45', '7', '[8,9]', 'jkim', '8.0']"
      ]
     },
     "execution_count": 6,
     "metadata": {},
     "output_type": "execute_result"
    }
   ],
   "source": [
    "def remove_empty(args):\n",
    "    for i in args:\n",
    "        if i=='[]':\n",
    "            args.remove(i)\n",
    "    return args\n",
    "\n",
    "a=list(map(str,input(\"Enter the elements:\").split()))\n",
    "remove_empty(a)\n",
    "    "
   ]
  },
  {
   "cell_type": "code",
   "execution_count": null,
   "id": "ee50321f",
   "metadata": {},
   "outputs": [],
   "source": []
  },
  {
   "cell_type": "code",
   "execution_count": null,
   "id": "f5de9a63",
   "metadata": {},
   "outputs": [],
   "source": [
    "\n"
   ]
  }
 ],
 "metadata": {
  "kernelspec": {
   "display_name": "Python 3 (ipykernel)",
   "language": "python",
   "name": "python3"
  },
  "language_info": {
   "codemirror_mode": {
    "name": "ipython",
    "version": 3
   },
   "file_extension": ".py",
   "mimetype": "text/x-python",
   "name": "python",
   "nbconvert_exporter": "python",
   "pygments_lexer": "ipython3",
   "version": "3.9.7"
  }
 },
 "nbformat": 4,
 "nbformat_minor": 5
}
