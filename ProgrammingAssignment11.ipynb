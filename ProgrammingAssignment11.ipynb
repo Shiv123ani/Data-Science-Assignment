{
 "cells": [
  {
   "cell_type": "code",
   "execution_count": 12,
   "id": "3d596ff9",
   "metadata": {},
   "outputs": [
    {
     "name": "stdout",
     "output_type": "stream",
     "text": [
      "Enter the string:Hello I am very intelligent\n",
      "Enter the length k of word to remove from string: 12\n",
      "Not found\n"
     ]
    }
   ],
   "source": [
    "s=input(\"Enter the string:\").split()\n",
    "a=int(input(\"Enter the length k of word to remove from string: \"))\n",
    "for i in s:\n",
    "    if len(i)>a:\n",
    "        print(i)\n",
    "        break\n",
    "else:\n",
    "    print(\"Not found\")\n"
   ]
  },
  {
   "cell_type": "code",
   "execution_count": 33,
   "id": "12efa7eb",
   "metadata": {},
   "outputs": [
    {
     "name": "stdout",
     "output_type": "stream",
     "text": [
      "Enter the string:Hello I am very intelligent\n",
      "Enter the ith character to remove from string: 1\n",
      "1\n",
      "Hllo I am very intelligent\n"
     ]
    }
   ],
   "source": [
    "s=list(input(\"Enter the string:\"))\n",
    "a=int(input(\"Enter the ith character to remove from string: \"))\n",
    "print(a)\n",
    "for i in s:\n",
    "    s.remove(s[a])\n",
    "    break\n",
    "print(''.join(s))"
   ]
  },
  {
   "cell_type": "code",
   "execution_count": 44,
   "id": "07985aae",
   "metadata": {},
   "outputs": [
    {
     "name": "stdout",
     "output_type": "stream",
     "text": [
      "Enter the string: Hello I am very intelligent\n",
      "After splitting string:  ['H', 'e', 'l', 'l', 'o', ' ', 'I', ' ', 'a', 'm', ' ', 'v', 'e', 'r', 'y', ' ', 'i', 'n', 't', 'e', 'l', 'l', 'i', 'g', 'e', 'n', 't']\n",
      "After again joining:  H e l l o   I   a m   v e r y   i n t e l l i g e n t\n"
     ]
    }
   ],
   "source": [
    "s=list(input('Enter the string: '))\n",
    "print(\"After splitting string: \",s)\n",
    "print(\"After again joining: \",\" \".join(s))\n"
   ]
  },
  {
   "cell_type": "code",
   "execution_count": 59,
   "id": "fb55df74",
   "metadata": {},
   "outputs": [
    {
     "name": "stdout",
     "output_type": "stream",
     "text": [
      "Enter the binary string: 10101010\n",
      "Binary String\n"
     ]
    }
   ],
   "source": [
    "s=set(input('Enter the binary string: '))\n",
    "f={'1','0'}\n",
    "\n",
    "if f==s or s=={'0'} or s=={'1'}:\n",
    "    print(\"Binary String\")\n",
    "else:\n",
    "    print(\"Non Binary String\")\n",
    "    \n",
    "        "
   ]
  },
  {
   "cell_type": "code",
   "execution_count": 61,
   "id": "9ee9585d",
   "metadata": {},
   "outputs": [
    {
     "name": "stdout",
     "output_type": "stream",
     "text": [
      "Enter the binary string: 1010hjdfgh12\n",
      "Non Binary String\n"
     ]
    }
   ],
   "source": [
    "#Another method\n",
    "\n",
    "s=input('Enter the binary string: ')\n",
    "if s.count('1')+s.count('0')==len(s):\n",
    "    print('Binary String')\n",
    "else:\n",
    "    print('Non Binary String')\n",
    "\n"
   ]
  },
  {
   "cell_type": "code",
   "execution_count": 89,
   "id": "9824fac3",
   "metadata": {},
   "outputs": [
    {
     "name": "stdout",
     "output_type": "stream",
     "text": [
      "Enter the string 1: hello i am fine\n",
      "Enter the string 2: i am fine\n",
      "{'hello'}\n"
     ]
    }
   ],
   "source": [
    "s1=input(\"Enter the string 1: \").split()\n",
    "s2=input(\"Enter the string 2: \").split()\n",
    "s=set(s1+s2)\n",
    "for i in s1:\n",
    "    if i in s2:\n",
    "        s.remove(i)\n",
    "\n",
    "print(s)\n",
    "        \n",
    "\n",
    "\n",
    "\n"
   ]
  },
  {
   "cell_type": "code",
   "execution_count": 73,
   "id": "34c4bc03",
   "metadata": {},
   "outputs": [
    {
     "name": "stdout",
     "output_type": "stream",
     "text": [
      "Enter the string: hello i am fine\n",
      "  h   e   l     o     i     a   m     f     n    \n"
     ]
    }
   ],
   "source": [
    "s=list(input(\"Enter the string: \"))\n",
    "k=' '\n",
    "for i in s:\n",
    "    if i not in k:\n",
    "        k=k+i\n",
    "    k=k+' '\n",
    "print(' '.join(k))\n"
   ]
  },
  {
   "cell_type": "code",
   "execution_count": 81,
   "id": "00de6404",
   "metadata": {},
   "outputs": [
    {
     "name": "stdout",
     "output_type": "stream",
     "text": [
      "Enter the value: hgjh&\n",
      "Special character\n"
     ]
    }
   ],
   "source": [
    "a=input(\"Enter the value: \")\n",
    "if a.isalpha() or a.isdigit():\n",
    "    print('Not a special character')\n",
    "else:\n",
    "    print('Special character')"
   ]
  },
  {
   "cell_type": "code",
   "execution_count": 85,
   "id": "363dad80",
   "metadata": {},
   "outputs": [
    {
     "data": {
      "text/plain": [
       "[9, 'h', 67, 9, 'h', 67]"
      ]
     },
     "execution_count": 85,
     "metadata": {},
     "output_type": "execute_result"
    }
   ],
   "source": [
    "s=[9,'h',67]\n",
    "f=[]\n",
    "s1=s+s\n",
    "s1"
   ]
  },
  {
   "cell_type": "code",
   "execution_count": null,
   "id": "c88026fd",
   "metadata": {},
   "outputs": [],
   "source": []
  }
 ],
 "metadata": {
  "kernelspec": {
   "display_name": "Python 3 (ipykernel)",
   "language": "python",
   "name": "python3"
  },
  "language_info": {
   "codemirror_mode": {
    "name": "ipython",
    "version": 3
   },
   "file_extension": ".py",
   "mimetype": "text/x-python",
   "name": "python",
   "nbconvert_exporter": "python",
   "pygments_lexer": "ipython3",
   "version": "3.9.7"
  }
 },
 "nbformat": 4,
 "nbformat_minor": 5
}
