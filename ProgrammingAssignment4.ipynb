{
 "cells": [
  {
   "cell_type": "code",
   "execution_count": null,
   "id": "36ba2109",
   "metadata": {},
   "outputs": [],
   "source": [
    "1.\tWrite a Python Program to Find the Factorial of a Number?\n",
    "2.\tWrite a Python Program to Display the multiplication Table?\n",
    "3.\tWrite a Python Program to Print the Fibonacci sequence?\n",
    "4.\tWrite a Python Program to Check Armstrong Number?\n",
    "5.\tWrite a Python Program to Find Armstrong Number in an Interval?\n",
    "6.\tWrite a Python Program to Find the Sum of Natural Numbers?"
   ]
  },
  {
   "cell_type": "code",
   "execution_count": 2,
   "id": "3887228d",
   "metadata": {},
   "outputs": [
    {
     "name": "stdout",
     "output_type": "stream",
     "text": [
      "Enter the number to find factorial:5\n",
      "120 is factorial of 5\n"
     ]
    }
   ],
   "source": [
    "n=int(input(\"Enter the number to find factorial:\"))\n",
    "j=1\n",
    "for i in range(2,n+1):\n",
    "    j*=i\n",
    "print(f'{j} is factorial of {n}')\n",
    "    "
   ]
  },
  {
   "cell_type": "code",
   "execution_count": 8,
   "id": "d507e5ce",
   "metadata": {},
   "outputs": [
    {
     "name": "stdout",
     "output_type": "stream",
     "text": [
      "Enter the number to display multiplication: 4\n",
      "4*1=4\n",
      "4*2=8\n",
      "4*3=12\n",
      "4*4=16\n",
      "4*5=20\n",
      "4*6=24\n",
      "4*7=28\n",
      "4*8=32\n",
      "4*9=36\n",
      "4*10=40\n"
     ]
    }
   ],
   "source": [
    "n=int(input(\"Enter the number to display multiplication: \"))\n",
    "for i in range(1,11):\n",
    "    print(f'{n}*{i}={n*i}')"
   ]
  },
  {
   "cell_type": "code",
   "execution_count": 24,
   "id": "8b285814",
   "metadata": {},
   "outputs": [
    {
     "name": "stdout",
     "output_type": "stream",
     "text": [
      "Enter the number to find fibonacci:6\n",
      "1 1 2 3 5 8 "
     ]
    }
   ],
   "source": [
    "n=int(input(\"Enter the number to find fibonacci:\"))\n",
    "k=0\n",
    "m=1\n",
    "for i in range(0,n):\n",
    "    print(f'{m+k}',end=\" \")\n",
    "    j=k\n",
    "    k=k+m\n",
    "    m=j\n",
    "    \n",
    "\n"
   ]
  },
  {
   "cell_type": "code",
   "execution_count": 69,
   "id": "3297ce2b",
   "metadata": {},
   "outputs": [
    {
     "name": "stdout",
     "output_type": "stream",
     "text": [
      "Enter the number to find armstrong:153\n",
      "153 is Armstrong number\n"
     ]
    }
   ],
   "source": [
    "m=n\n",
    "s=0\n",
    "r=1\n",
    "n=int(input(\"Enter the number to find armstrong:\"))\n",
    "\n",
    "while r!=0:\n",
    "    r=m%10\n",
    "    s=s+(r*r*r)\n",
    "    m=m//10\n",
    "if n==s:\n",
    "    print(f'{n} is Armstrong number')\n",
    "else:\n",
    "    print(f'{n} is not Armstrong number')"
   ]
  },
  {
   "cell_type": "code",
   "execution_count": 76,
   "id": "dd87bb01",
   "metadata": {},
   "outputs": [
    {
     "name": "stdout",
     "output_type": "stream",
     "text": [
      "Enter the range to find armstrong:100 1000\n",
      "153 370 371 407 "
     ]
    }
   ],
   "source": [
    "n1,n2=map(int ,input(\"Enter the range to find armstrong:\").split())\n",
    "for i in range(n1,n2+1):\n",
    "    m=i\n",
    "    s=0\n",
    "    r=1\n",
    "    while m!=0:\n",
    "        r=m%10\n",
    "        s=s+(r*r*r)\n",
    "        m=m//10\n",
    "    if i==s:\n",
    "        print(i,end=\" \")\n",
    "\n",
    "\n"
   ]
  },
  {
   "cell_type": "code",
   "execution_count": 82,
   "id": "a2229095",
   "metadata": {},
   "outputs": [
    {
     "name": "stdout",
     "output_type": "stream",
     "text": [
      "Enter the number to find sum: 89\n",
      "Sum of 89 natural numbers is 4005\n"
     ]
    }
   ],
   "source": [
    "n=int(input(\"Enter the number to find sum: \"))\n",
    "sum=0\n",
    "for i in range(1,n+1):\n",
    "    sum=sum+i\n",
    "print(f'Sum of {n} natural numbers is {sum}')\n"
   ]
  },
  {
   "cell_type": "code",
   "execution_count": null,
   "id": "5a85517e",
   "metadata": {},
   "outputs": [],
   "source": [
    "\n",
    "\n",
    "\n",
    "\n"
   ]
  },
  {
   "cell_type": "code",
   "execution_count": null,
   "id": "1226f347",
   "metadata": {},
   "outputs": [],
   "source": []
  }
 ],
 "metadata": {
  "kernelspec": {
   "display_name": "Python 3 (ipykernel)",
   "language": "python",
   "name": "python3"
  },
  "language_info": {
   "codemirror_mode": {
    "name": "ipython",
    "version": 3
   },
   "file_extension": ".py",
   "mimetype": "text/x-python",
   "name": "python",
   "nbconvert_exporter": "python",
   "pygments_lexer": "ipython3",
   "version": "3.9.7"
  }
 },
 "nbformat": 4,
 "nbformat_minor": 5
}
