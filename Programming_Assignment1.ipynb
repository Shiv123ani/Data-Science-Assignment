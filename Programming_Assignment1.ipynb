{
 "cells": [
  {
   "cell_type": "code",
   "execution_count": 1,
   "id": "d4c3e313",
   "metadata": {},
   "outputs": [
    {
     "name": "stdout",
     "output_type": "stream",
     "text": [
      "Hello python\n",
      "Enter two number12 34\n",
      "Addition of two number 46.0\n",
      " Division of two numbers is 0.35294117647058826\n",
      "\n",
      "Enter height and base:45 50\n",
      "Area of a triangle is 1125.0 sq cm\n",
      "\n",
      "Enter two number to swap:23 45\n",
      "Before swapping a=23.0 b= 45.0\n",
      "\n",
      "After swapping a=45.0 b=23.0\n",
      "\n",
      "Enter two number to select random number: 34 67\n",
      "Your random number is 39\n",
      "\n"
     ]
    }
   ],
   "source": [
    "import random\n",
    "print(\"Hello python\")\n",
    "n1,n2=map(float,input(\"Enter two number\").split())\n",
    "print(f\"Addition of two number {n1+n2}\\n Division of two numbers is {n1/n2}\\n\")\n",
    "h,b=map(float,input(\"Enter height and base:\").split())\n",
    "print(f\"Area of a triangle is {0.5*h*b} sq cm\\n\")\n",
    "n1,n2=map(float,input(\"Enter two number to swap:\").split())\n",
    "print(f\"Before swapping a={n1} b= {n2}\\n\")\n",
    "c=n1\n",
    "n1=n2\n",
    "n2=c\n",
    "print(f\"After swapping a={n1} b={n2}\\n\")\n",
    "n1,n2=map(float,input(\"Enter two number to select random number: \").split())\n",
    "print(f\"Your random number is {random.randrange(n1,n2)}\\n\")"
   ]
  },
  {
   "cell_type": "code",
   "execution_count": null,
   "id": "39227d05",
   "metadata": {},
   "outputs": [],
   "source": []
  }
 ],
 "metadata": {
  "kernelspec": {
   "display_name": "Python 3 (ipykernel)",
   "language": "python",
   "name": "python3"
  },
  "language_info": {
   "codemirror_mode": {
    "name": "ipython",
    "version": 3
   },
   "file_extension": ".py",
   "mimetype": "text/x-python",
   "name": "python",
   "nbconvert_exporter": "python",
   "pygments_lexer": "ipython3",
   "version": "3.9.7"
  }
 },
 "nbformat": 4,
 "nbformat_minor": 5
}
