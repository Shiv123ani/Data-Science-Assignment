{
 "cells": [
  {
   "cell_type": "code",
   "execution_count": 5,
   "id": "e66b9617",
   "metadata": {},
   "outputs": [
    {
     "name": "stdout",
     "output_type": "stream",
     "text": [
      "Check positive or negative\n",
      "\n",
      "Enter the number: -89\n",
      "Negative number\n",
      "\n"
     ]
    }
   ],
   "source": [
    "print(\"Check positive or negative\\n\")\n",
    "a=int(input(\"Enter the number: \"))\n",
    "if a<0:\n",
    "    print(\"Negative number\\n\")\n",
    "elif a>0:\n",
    "    print(\"Positive number\\n\")\n",
    "else:\n",
    "    print(\"Entered number is zero\")"
   ]
  },
  {
   "cell_type": "code",
   "execution_count": 4,
   "id": "fd46f922",
   "metadata": {},
   "outputs": [
    {
     "name": "stdout",
     "output_type": "stream",
     "text": [
      "Check odd or even\n",
      "\n",
      "Enter the number: 34\n",
      "Even number\n",
      "\n"
     ]
    }
   ],
   "source": [
    "print(\"Check odd or even\\n\")\n",
    "a=int(input(\"Enter the number: \"))\n",
    "if a%2==0:\n",
    "    print(\"Even number\\n\")\n",
    "\n",
    "else:\n",
    "    print(\"Entered number is odd\")"
   ]
  },
  {
   "cell_type": "code",
   "execution_count": 9,
   "id": "b0b41c7d",
   "metadata": {},
   "outputs": [
    {
     "name": "stdout",
     "output_type": "stream",
     "text": [
      "Check leap year or not\n",
      "\n",
      "Enter the year: 2200\n",
      "2200 is not leap year\n"
     ]
    }
   ],
   "source": [
    "print(\"Check leap year or not\\n\")\n",
    "a=int(input(\"Enter the year: \"))\n",
    "if a%4==0 and a%100!=0:\n",
    "    print(f'{a} is leap year')\n",
    "elif a%100==0 and a%400==0:\n",
    "    print(f'{a} is leap year')\n",
    "else:\n",
    "    print(f'{a} is not leap year')"
   ]
  },
  {
   "cell_type": "code",
   "execution_count": 53,
   "id": "70e0047f",
   "metadata": {},
   "outputs": [
    {
     "name": "stdout",
     "output_type": "stream",
     "text": [
      "Check prime number or not\n",
      "\n",
      "Enter the number: 1\n",
      "1 is not a Prime number\n"
     ]
    }
   ],
   "source": [
    "print(\"Check prime number or not\\n\")\n",
    "i=2\n",
    "a=int(input(\"Enter the number: \"))\n",
    "while i<(a//2):\n",
    "    f=0\n",
    "    if a%i==0:\n",
    "        f=1\n",
    "        break\n",
    "    i=i+1\n",
    "if f==1:\n",
    "    print(f\"{a} is not a Prime number\")\n",
    "else:\n",
    "    print(f\"{a} is a Prime number\")"
   ]
  },
  {
   "cell_type": "code",
   "execution_count": 90,
   "id": "3a831293",
   "metadata": {},
   "outputs": [
    {
     "name": "stdout",
     "output_type": "stream",
     "text": [
      "Prime Numbers in an Interval of two numbers\n",
      "\n",
      "Enter the first number: 1\n",
      "Enter the second number: 1000\n",
      "2 3 5 7 11 13 17 19 23 29 31 37 41 43 47 53 59 61 67 71 73 79 83 89 97 101 103 107 109 113 127 131 137 139 149 151 157 163 167 173 179 181 191 193 197 199 211 223 227 229 233 239 241 251 257 263 269 271 277 281 283 293 307 311 313 317 331 337 347 349 353 359 367 373 379 383 389 397 401 409 419 421 431 433 439 443 449 457 461 463 467 479 487 491 499 503 509 521 523 541 547 557 563 569 571 577 587 593 599 601 607 613 617 619 631 641 643 647 653 659 661 673 677 683 691 701 709 719 727 733 739 743 751 757 761 769 773 787 797 809 811 821 823 827 829 839 853 857 859 863 877 881 883 887 907 911 919 929 937 941 947 953 967 971 977 983 991 997 "
     ]
    }
   ],
   "source": [
    "print(\"Prime Numbers in an Interval of two numbers\\n\")\n",
    "n1=int(input(\"Enter the first number: \"))\n",
    "n2=int(input(\"Enter the second number: \"))\n",
    "m=[]\n",
    "for j in range(n1,n2+1):\n",
    "    if j>1:\n",
    "        i=2\n",
    "        while i<j:\n",
    "            if j%i==0:\n",
    "                break\n",
    "        \n",
    "            i=i+1\n",
    "            #print(f'i={i}',end=\" \")\n",
    "        else:\n",
    "            print(j,end=\" \")\n",
    "    "
   ]
  },
  {
   "cell_type": "code",
   "execution_count": null,
   "id": "81be5aa3",
   "metadata": {},
   "outputs": [],
   "source": []
  },
  {
   "cell_type": "code",
   "execution_count": null,
   "id": "bd7248e1",
   "metadata": {},
   "outputs": [],
   "source": []
  }
 ],
 "metadata": {
  "kernelspec": {
   "display_name": "Python 3 (ipykernel)",
   "language": "python",
   "name": "python3"
  },
  "language_info": {
   "codemirror_mode": {
    "name": "ipython",
    "version": 3
   },
   "file_extension": ".py",
   "mimetype": "text/x-python",
   "name": "python",
   "nbconvert_exporter": "python",
   "pygments_lexer": "ipython3",
   "version": "3.9.7"
  }
 },
 "nbformat": 4,
 "nbformat_minor": 5
}
