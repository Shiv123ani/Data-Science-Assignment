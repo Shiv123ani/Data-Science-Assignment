{
 "cells": [
  {
   "cell_type": "code",
   "execution_count": 10,
   "id": "0d29a0a1",
   "metadata": {},
   "outputs": [
    {
     "name": "stdout",
     "output_type": "stream",
     "text": [
      "Enter the elements of list:\n",
      "Enter the number to add:5\n",
      "No list has been selected\n",
      "[]\n"
     ]
    }
   ],
   "source": [
    "def next_in_line(l1,n):\n",
    "    if l1==[]:\n",
    "        print(\"No list has been selected\")\n",
    "    else:\n",
    "        l1.remove(l1[0])\n",
    "        l1.append(n)\n",
    "    return l1\n",
    "l1,n=list(map(int,input(\"Enter the elements of list:\").split())),int(input(\"Enter the number to add:\"))\n",
    "print(next_in_line(l1,n))"
   ]
  },
  {
   "cell_type": "code",
   "execution_count": 28,
   "id": "1f17d8e0",
   "metadata": {},
   "outputs": [
    {
     "name": "stdout",
     "output_type": "stream",
     "text": [
      "Enter the number of list:3\n",
      "Enter the name:John\n",
      "Enter the age:21\n",
      "Enter the budget:2300\n",
      "Enter the name:Steve\n",
      "Enter the age:63\n",
      "Enter the budget:40000\n",
      "Enter the name:Martin\n",
      "Enter the age:16\n",
      "Enter the budget:2700\n",
      "45000\n"
     ]
    }
   ],
   "source": [
    "def get_budgets(m):\n",
    "    s=0\n",
    "    for i in range(len(m)):\n",
    "        s=s+int(m[i]['budget'])\n",
    "    \n",
    "    return s\n",
    "\n",
    "\n",
    "m=[]\n",
    "l=['name','age','budget']\n",
    "for _ in range(int(input(\"Enter the number of list:\"))):\n",
    "    d={}\n",
    "    for i in l:\n",
    "        d[i]=input(f\"Enter the {i}:\")\n",
    "    m.append(d)\n",
    "print(get_budgets(m))\n",
    "\n"
   ]
  },
  {
   "cell_type": "code",
   "execution_count": 32,
   "id": "f1da4903",
   "metadata": {},
   "outputs": [
    {
     "name": "stdout",
     "output_type": "stream",
     "text": [
      "Enter the string:hello\n",
      "ehllo\n"
     ]
    }
   ],
   "source": [
    "def alphabet_soup(s):\n",
    "    s=sorted(s)\n",
    "    str=''\n",
    "    for i in s:\n",
    "        str=str+i\n",
    "    return str\n",
    "        \n",
    "\n",
    "s=input(\"Enter the string:\")\n",
    "print(alphabet_soup(s))"
   ]
  },
  {
   "cell_type": "code",
   "execution_count": 48,
   "id": "0f63997b",
   "metadata": {},
   "outputs": [
    {
     "name": "stdout",
     "output_type": "stream",
     "text": [
      "Enter the principal:10000\n",
      "Enter the time:10\n",
      "Enter the rate of interest:0.06\n",
      "Enter the period:12\n",
      "18193.97\n"
     ]
    }
   ],
   "source": [
    "import math\n",
    "def compound_interest(p,t,r,n):\n",
    "    a=round(p*math.pow((1+r/n),n*t),2)\n",
    "    #ci=a-p\n",
    "    return a\n",
    "\n",
    "p=int(input(\"Enter the principal:\"))\n",
    "t=int(input(\"Enter the time:\"))\n",
    "r=float(input(\"Enter the rate of interest:\"))\n",
    "n=int(input(\"Enter the period:\"))\n",
    "\n",
    "print(compound_interest(p,t,r,n))"
   ]
  },
  {
   "cell_type": "code",
   "execution_count": 1,
   "id": "3c117bda",
   "metadata": {},
   "outputs": [
    {
     "name": "stdout",
     "output_type": "stream",
     "text": [
      "[12, 67, 89, 90]\n"
     ]
    }
   ],
   "source": [
    "def return_only_integer(*args):\n",
    "    a=[]\n",
    "    for i in args:\n",
    "        if type(i)==int:\n",
    "            a.append(i)\n",
    "        \n",
    "    return a\n",
    "print(return_only_integer(12,67,'a','abgh',89,90))          \n"
   ]
  },
  {
   "cell_type": "code",
   "execution_count": null,
   "id": "182da69f",
   "metadata": {},
   "outputs": [],
   "source": []
  }
 ],
 "metadata": {
  "kernelspec": {
   "display_name": "Python 3 (ipykernel)",
   "language": "python",
   "name": "python3"
  },
  "language_info": {
   "codemirror_mode": {
    "name": "ipython",
    "version": 3
   },
   "file_extension": ".py",
   "mimetype": "text/x-python",
   "name": "python",
   "nbconvert_exporter": "python",
   "pygments_lexer": "ipython3",
   "version": "3.9.7"
  }
 },
 "nbformat": 4,
 "nbformat_minor": 5
}
