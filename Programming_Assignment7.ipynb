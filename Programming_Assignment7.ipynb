{
 "cells": [
  {
   "cell_type": "code",
   "execution_count": 66,
   "id": "b706e69f",
   "metadata": {},
   "outputs": [
    {
     "name": "stdout",
     "output_type": "stream",
     "text": [
      "n1:1 n2:2 n3:4\n",
      "['n1:1', 'n2:2', 'n3:4']\n",
      "Sum is 7\n",
      "Max is 4\n",
      "[1, 2, 4, 'n1', 'n2', 'n3']\n",
      "Monotonic\n",
      "Enter n positions to rotate the array:2\n",
      "Array rotation [4, 1, 2]\n"
     ]
    }
   ],
   "source": [
    "n=input().split()\n",
    "print(n)\n",
    "n1=[int(i.split(':')[1]) for i in n]\n",
    "n2=[i.split(':')[0] for i in n]\n",
    "print(f\"Sum is {sum(n1)}\")\n",
    "print(f\"Max is {max(n1)}\")\n",
    "n=n1+n2\n",
    "print(n)\n",
    "f=0\n",
    "# monotonic or not\n",
    "for i in range(len(n1)):\n",
    "    for m in range(i+1,len(n1)):\n",
    "        if not n1[i]<n1[m]:\n",
    "            f=1\n",
    "\n",
    "if f==1:\n",
    "    print(\"Not monotonic\")\n",
    "else:\n",
    "    print(\"Monotonic\")\n",
    "    \n",
    "    \n",
    "k=int(input(\"Enter n positions to rotate the array:\"))\n",
    "m=n1[k:]+n1[:k]\n",
    "print(f\"Array rotation {m}\")"
   ]
  },
  {
   "cell_type": "code",
   "execution_count": null,
   "id": "43bc64a8",
   "metadata": {},
   "outputs": [],
   "source": []
  },
  {
   "cell_type": "code",
   "execution_count": null,
   "id": "bd1d50d0",
   "metadata": {},
   "outputs": [],
   "source": []
  },
  {
   "cell_type": "code",
   "execution_count": null,
   "id": "2fa60e91",
   "metadata": {},
   "outputs": [],
   "source": []
  }
 ],
 "metadata": {
  "kernelspec": {
   "display_name": "Python 3 (ipykernel)",
   "language": "python",
   "name": "python3"
  },
  "language_info": {
   "codemirror_mode": {
    "name": "ipython",
    "version": 3
   },
   "file_extension": ".py",
   "mimetype": "text/x-python",
   "name": "python",
   "nbconvert_exporter": "python",
   "pygments_lexer": "ipython3",
   "version": "3.9.7"
  }
 },
 "nbformat": 4,
 "nbformat_minor": 5
}
