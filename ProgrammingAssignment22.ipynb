{
 "cells": [
  {
   "cell_type": "code",
   "execution_count": 10,
   "id": "8618e6ac",
   "metadata": {},
   "outputs": [
    {
     "name": "stdout",
     "output_type": "stream",
     "text": [
      "Enter the value of a ,b and n:1 10 3\n",
      "[3, 6, 9]\n"
     ]
    }
   ],
   "source": [
    "try:\n",
    "    def divisible(a,b,n):\n",
    "        l=[]\n",
    "        for i in range(a,b+1):\n",
    "            if i%n==0:\n",
    "                l.append(i)\n",
    "        return l\n",
    "    a,b,n=map(int,input('Enter the value of a ,b and n:').split())\n",
    "    j=divisible(a,b,n)\n",
    "    print(j)\n",
    "except ZeroDivisionError:\n",
    "    print(\"Give divisor other than zero\")\n",
    "        \n"
   ]
  },
  {
   "cell_type": "code",
   "execution_count": 32,
   "id": "fe868d42",
   "metadata": {},
   "outputs": [
    {
     "name": "stdout",
     "output_type": "stream",
     "text": [
      "Enter 1st list of same size:1 2 3 4 5\n",
      "Enter 2nd list of same size:5 5 1 2 3\n",
      "False\n"
     ]
    }
   ],
   "source": [
    "def check(l1,l2):\n",
    "    a=False\n",
    "    count=0\n",
    "    for i in l1:\n",
    "        a=False\n",
    "        if i in l2 and count<=1:\n",
    "           \n",
    "            a=True\n",
    "            count=count+1\n",
    "            \n",
    "    else:\n",
    "        if l1[:len(l1)-1]==l2[1:]:\n",
    "           \n",
    "            a=True\n",
    "            \n",
    "            \n",
    "    return a\n",
    "\n",
    "l1,l2=list(map(int,input(\"Enter 1st list of same size:\").split())),list(map(int,input(\"Enter 2nd list of same size:\").split()))\n",
    "print(check(l1,l2))"
   ]
  },
  {
   "cell_type": "code",
   "execution_count": 48,
   "id": "5f0a0853",
   "metadata": {},
   "outputs": [
    {
     "name": "stdout",
     "output_type": "stream",
     "text": [
      "Enter name of friends:adam sarah micoln\n",
      "AMS\n"
     ]
    }
   ],
   "source": [
    "def society_name(l1):\n",
    "    str=''\n",
    "    for i in sorted(l1):\n",
    "        str=str+i[0].upper()\n",
    "        #print(str,i[0])\n",
    "    return str\n",
    "l1=list(input(\"Enter name of friends:\").split())\n",
    "print(society_name(l1))"
   ]
  },
  {
   "cell_type": "code",
   "execution_count": 63,
   "id": "1515beb1",
   "metadata": {},
   "outputs": [
    {
     "name": "stdout",
     "output_type": "stream",
     "text": [
      "Enter the string: algorism\n",
      "True\n"
     ]
    }
   ],
   "source": [
    "def is_isogram(a):\n",
    "    j=\"False\"\n",
    "    b=list(set(a))\n",
    "    str=''\n",
    "    for i in b:\n",
    "        str=str+i\n",
    "    if sorted(str)==sorted(a):\n",
    "        j=\"True\"\n",
    "    return j\n",
    "\n",
    "s=input(\"Enter the string: \")\n",
    "print(is_isogram(s))\n",
    "    \n",
    "    \n"
   ]
  },
  {
   "cell_type": "code",
   "execution_count": 58,
   "id": "eb55a2d4",
   "metadata": {},
   "outputs": [
    {
     "name": "stdout",
     "output_type": "stream",
     "text": [
      "False leoh\n"
     ]
    }
   ],
   "source": []
  },
  {
   "cell_type": "code",
   "execution_count": 66,
   "id": "797d8b91",
   "metadata": {},
   "outputs": [
    {
     "data": {
      "text/plain": [
       "103"
      ]
     },
     "execution_count": 66,
     "metadata": {},
     "output_type": "execute_result"
    }
   ],
   "source": [
    "ord(\"g\")"
   ]
  },
  {
   "cell_type": "code",
   "execution_count": 82,
   "id": "dc4a1c38",
   "metadata": {},
   "outputs": [
    {
     "name": "stdout",
     "output_type": "stream",
     "text": [
      "Enter the string:abc\n",
      "True\n"
     ]
    }
   ],
   "source": [
    "def is_in_order(a):\n",
    "    g=False\n",
    "    s=0\n",
    "    for i in a:\n",
    "        \n",
    "        if s<=ord(i):\n",
    "            s=ord(i)\n",
    "            g=True\n",
    "        else:\n",
    "            g=False\n",
    "            break\n",
    "    return g\n",
    "\n",
    "a=input(\"Enter the string:\")\n",
    "print(is_in_order(a))\n",
    "\n",
    "        \n",
    "    "
   ]
  },
  {
   "cell_type": "code",
   "execution_count": null,
   "id": "68755387",
   "metadata": {},
   "outputs": [],
   "source": []
  },
  {
   "cell_type": "code",
   "execution_count": null,
   "id": "f59add99",
   "metadata": {},
   "outputs": [],
   "source": []
  },
  {
   "cell_type": "code",
   "execution_count": null,
   "id": "ef74aa76",
   "metadata": {},
   "outputs": [],
   "source": []
  },
  {
   "cell_type": "code",
   "execution_count": null,
   "id": "0d352f9d",
   "metadata": {},
   "outputs": [],
   "source": []
  }
 ],
 "metadata": {
  "kernelspec": {
   "display_name": "Python 3 (ipykernel)",
   "language": "python",
   "name": "python3"
  },
  "language_info": {
   "codemirror_mode": {
    "name": "ipython",
    "version": 3
   },
   "file_extension": ".py",
   "mimetype": "text/x-python",
   "name": "python",
   "nbconvert_exporter": "python",
   "pygments_lexer": "ipython3",
   "version": "3.9.7"
  }
 },
 "nbformat": 4,
 "nbformat_minor": 5
}
