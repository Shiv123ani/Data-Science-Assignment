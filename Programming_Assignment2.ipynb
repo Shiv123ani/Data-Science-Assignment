{
 "cells": [
  {
   "cell_type": "code",
   "execution_count": 8,
   "id": "43512ea3",
   "metadata": {},
   "outputs": [
    {
     "name": "stdout",
     "output_type": "stream",
     "text": [
      "Enter the kilometer:1\n",
      "Kilometer to miles is 0.621504\n"
     ]
    }
   ],
   "source": [
    "n=int(input(\"Enter the kilometer:\"))\n",
    "print(\"Kilometer to miles is {}\".format(round(n/1.609,6)))"
   ]
  },
  {
   "cell_type": "code",
   "execution_count": 12,
   "id": "f3ac52ce",
   "metadata": {},
   "outputs": [
    {
     "name": "stdout",
     "output_type": "stream",
     "text": [
      "Enter the temperature in fahrenheit:1\n",
      "Fahreheit to celcius -17.22222\n"
     ]
    }
   ],
   "source": [
    "n=int(input(\"Enter the temperature in fahrenheit:\"))\n",
    "print(\"Fahreheit to celcius {}\".format(round((n-32)*5/9,5)))"
   ]
  },
  {
   "cell_type": "code",
   "execution_count": 14,
   "id": "1a2a2698",
   "metadata": {},
   "outputs": [
    {
     "name": "stdout",
     "output_type": "stream",
     "text": [
      "Enter the year and month: 2022 5\n",
      "      May 2022\n",
      "Mo Tu We Th Fr Sa Su\n",
      "                   1\n",
      " 2  3  4  5  6  7  8\n",
      " 9 10 11 12 13 14 15\n",
      "16 17 18 19 20 21 22\n",
      "23 24 25 26 27 28 29\n",
      "30 31\n",
      "\n"
     ]
    }
   ],
   "source": [
    "import calendar\n",
    "yy,mm=map(int,input(\"Enter the year and month: \").split())\n",
    "print(calendar.month(yy, mm))"
   ]
  },
  {
   "cell_type": "code",
   "execution_count": 29,
   "id": "9db4f0ff",
   "metadata": {},
   "outputs": [
    {
     "name": "stdout",
     "output_type": "stream",
     "text": [
      "Enter the value of a ,b and c:3 4 2\n",
      "It has complex solutions\n",
      "-0.6666666666666666  +  2.8284271247461903 i\n",
      "-0.6666666666666666  -  2.8284271247461903 i\n"
     ]
    }
   ],
   "source": [
    "import math\n",
    "a,b,c=map(int,input(\"Enter the value of a ,b and c:\").split())\n",
    "n=(b**2)-(4*a*c)\n",
    "sol1=(-b+math.sqrt(abs(n)))/2*a\n",
    "sol2=(-b-math.sqrt(abs(n)))/2*a\n",
    "if n>0:\n",
    "    print(f'It has two real and different solutions\\nReal solutions:{round(sol1,4)}\\t{round(sol2,4)}')\n",
    "elif n==0:\n",
    "    print(f'It has one real and same solution\\nReal solution:{round(sol2,4)}')\n",
    "    \n",
    "else:\n",
    "    print(f'It has complex solutions')\n",
    "    print(- b / (2 * a), \" + \", math.sqrt(abs(n)),\"i\") \n",
    "    print(- b / (2 * a), \" - \", math.sqrt(abs(n)),\"i\")\n"
   ]
  },
  {
   "cell_type": "code",
   "execution_count": 31,
   "id": "eb647e87",
   "metadata": {},
   "outputs": [
    {
     "name": "stdout",
     "output_type": "stream",
     "text": [
      "Enter two number to swap:3 4\n",
      "Before swapping a=3.0 b= 4.0\n",
      "\n",
      "After swapping a=4.0 b=3.0\n",
      "\n"
     ]
    }
   ],
   "source": [
    "n1,n2=map(float,input(\"Enter two number to swap:\").split())\n",
    "print(f\"Before swapping a={n1} b= {n2}\\n\")\n",
    "n1=n1+n2\n",
    "n2=n1-n2\n",
    "n1=n1-n2\n",
    "print(f\"After swapping a={n1} b={n2}\\n\")"
   ]
  },
  {
   "cell_type": "code",
   "execution_count": 27,
   "id": "d6534262",
   "metadata": {},
   "outputs": [
    {
     "name": "stdout",
     "output_type": "stream",
     "text": [
      "The roots are\n",
      "(-0.6666666666666666-0.47140452079103173j)\n",
      "(-0.6666666666666666+0.47140452079103173j)\n"
     ]
    }
   ],
   "source": [
    "\n",
    "\n"
   ]
  },
  {
   "cell_type": "code",
   "execution_count": null,
   "id": "2322193e",
   "metadata": {},
   "outputs": [],
   "source": []
  }
 ],
 "metadata": {
  "kernelspec": {
   "display_name": "Python 3 (ipykernel)",
   "language": "python",
   "name": "python3"
  },
  "language_info": {
   "codemirror_mode": {
    "name": "ipython",
    "version": 3
   },
   "file_extension": ".py",
   "mimetype": "text/x-python",
   "name": "python",
   "nbconvert_exporter": "python",
   "pygments_lexer": "ipython3",
   "version": "3.9.7"
  }
 },
 "nbformat": 4,
 "nbformat_minor": 5
}
