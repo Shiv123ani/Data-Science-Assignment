{
 "cells": [
  {
   "cell_type": "code",
   "execution_count": null,
   "id": "09969ccc-e64a-4e8f-9201-382412c9607d",
   "metadata": {},
   "outputs": [],
   "source": [
    "1. What exactly is []?\n",
    "2. In a list of values stored in a variable called spam, how would you assign the value &#39;hello&#39; as the\n",
    "third value? (Assume [2, 4, 6, 8, 10] are in spam.)\n",
    "Let&#39;s pretend the spam includes the list [&#39;a&#39;, &#39;b&#39;, &#39;c&#39;, &#39;d&#39;] for the next three queries.\n",
    "3. What is the value of spam[int(int(&#39;3&#39; * 2) / 11)]?\n",
    "4. What is the value of spam[-1]?\n",
    "5. What is the value of spam[:2]?\n",
    "Let&#39;s pretend bacon has the list [3.14, &#39;cat,&#39; 11, &#39;cat,&#39; True] for the next three questions.\n",
    "6. What is the value of bacon.index(&#39;cat&#39;)?\n",
    "7. How does bacon.append(99) change the look of the list value in bacon?\n",
    "8. How does bacon.remove(&#39;cat&#39;) change the look of the list in bacon?\n",
    "9. What are the list concatenation and list replication operators?\n",
    "10. What is difference between the list methods append() and insert()?\n",
    "11. What are the two methods for removing items from a list?\n",
    "12. Describe how list values and string values are identical.\n",
    "13. What&#39;s the difference between tuples and lists?\n",
    "14. How do you type a tuple value that only contains the integer 42?\n",
    "15. How do you get a list value&#39;s tuple form? How do you get a tuple value&#39;s list form?\n",
    "16. Variables that &quot;contain&quot; list values are not necessarily lists themselves. Instead, what do they\n",
    "contain?\n",
    "17. How do you distinguish between copy.copy() and copy.deepcopy()?"
   ]
  },
  {
   "cell_type": "code",
   "execution_count": null,
   "id": "754653ef-85a6-400a-ae4d-8474ea821f3e",
   "metadata": {},
   "outputs": [],
   "source": [
    "1 .using [] ,WE CAN CREATE LIST OBJECT"
   ]
  },
  {
   "cell_type": "code",
   "execution_count": 1,
   "id": "e71f7d56-d377-4c5a-b62f-e779f7b20cf2",
   "metadata": {},
   "outputs": [
    {
     "data": {
      "text/plain": [
       "[2, 4, 6, 'hello', 10]"
      ]
     },
     "execution_count": 1,
     "metadata": {},
     "output_type": "execute_result"
    }
   ],
   "source": [
    "spam =[2,4,6,8,10]\n",
    "spam[3]=\"hello\"\n",
    "spam"
   ]
  },
  {
   "cell_type": "code",
   "execution_count": 2,
   "id": "c3b09628-b74a-4aad-bc28-bb8b9081ee6c",
   "metadata": {},
   "outputs": [
    {
     "data": {
      "text/plain": [
       "'d'"
      ]
     },
     "execution_count": 2,
     "metadata": {},
     "output_type": "execute_result"
    }
   ],
   "source": [
    "spam =['a','b','c','d']\n",
    "spam[int(int('3'*2)/11)]"
   ]
  },
  {
   "cell_type": "code",
   "execution_count": 3,
   "id": "95aa19dc-32f5-44ab-9d1a-785ebf662279",
   "metadata": {},
   "outputs": [
    {
     "data": {
      "text/plain": [
       "'d'"
      ]
     },
     "execution_count": 3,
     "metadata": {},
     "output_type": "execute_result"
    }
   ],
   "source": [
    "spam[-1]"
   ]
  },
  {
   "cell_type": "code",
   "execution_count": 4,
   "id": "c04f4584-66e0-4540-9c76-5d7dbd1921d5",
   "metadata": {},
   "outputs": [
    {
     "data": {
      "text/plain": [
       "['a', 'b']"
      ]
     },
     "execution_count": 4,
     "metadata": {},
     "output_type": "execute_result"
    }
   ],
   "source": [
    "spam[:2]"
   ]
  },
  {
   "cell_type": "code",
   "execution_count": 5,
   "id": "a3e234b9-01a4-4cad-a7d8-0992ae252cbe",
   "metadata": {},
   "outputs": [
    {
     "data": {
      "text/plain": [
       "1"
      ]
     },
     "execution_count": 5,
     "metadata": {},
     "output_type": "execute_result"
    }
   ],
   "source": [
    "bacon=[3.14,'cat',11,'cat',True]\n",
    "bacon.index('cat')"
   ]
  },
  {
   "cell_type": "code",
   "execution_count": 7,
   "id": "0a4fa9f3-ab5c-43d9-9dc4-74478ac03205",
   "metadata": {},
   "outputs": [
    {
     "data": {
      "text/plain": [
       "[3.14, 'cat', 11, 'cat', True, 99]"
      ]
     },
     "execution_count": 7,
     "metadata": {},
     "output_type": "execute_result"
    }
   ],
   "source": [
    "#after using append() ,element will be added at the end of the list\n",
    "bacon.append(99)\n",
    "bacon"
   ]
  },
  {
   "cell_type": "code",
   "execution_count": 9,
   "id": "88e80497-5ed5-4dc4-b846-2f4cbb7493c1",
   "metadata": {},
   "outputs": [
    {
     "data": {
      "text/plain": [
       "[3.14, 11, True, 99]"
      ]
     },
     "execution_count": 9,
     "metadata": {},
     "output_type": "execute_result"
    }
   ],
   "source": [
    "bacon.remove('cat')   #remove function removes the mentioned element present fist time in list \n",
    "bacon"
   ]
  },
  {
   "cell_type": "code",
   "execution_count": 15,
   "id": "0922043c-582e-4177-bedf-230a71781454",
   "metadata": {},
   "outputs": [
    {
     "name": "stdout",
     "output_type": "stream",
     "text": [
      "l3= [5, 6, 7, 8, 9] \n",
      " l1= [2, 3, 4, 5, 6, 5, 6, 7, 8, 9]\n"
     ]
    }
   ],
   "source": [
    "l1=[2,3,4,5,6]\n",
    "l2=[5,6,7,8,9]\n",
    "l1=l1+l2   #list concatenation\n",
    "l3=l2      #list replication\n",
    "print(\"l3=\",l3,\"\\n\",\"l1=\",l1)"
   ]
  },
  {
   "cell_type": "code",
   "execution_count": 5,
   "id": "ae4db753-c688-4110-a8ce-99b8ff4f553c",
   "metadata": {},
   "outputs": [
    {
     "data": {
      "text/plain": [
       "['spam', 5, 'pinky', 'world', 45.89, 'hello']"
      ]
     },
     "execution_count": 5,
     "metadata": {},
     "output_type": "execute_result"
    }
   ],
   "source": [
    "#append()- add value at end of list\n",
    "#insert() - add value at specific position\n",
    "l1=['spam',5,'pinky',45.89]\n",
    "l1.append(\"hello\")\n",
    "l1\n",
    "l1.insert(3,\"world\")\n",
    "l1"
   ]
  },
  {
   "cell_type": "code",
   "execution_count": 16,
   "id": "7db1e4f0-2e44-41a1-aa9a-b90f53149342",
   "metadata": {},
   "outputs": [
    {
     "name": "stdout",
     "output_type": "stream",
     "text": [
      "['spam', 5, 45.89, 'world']\n",
      "['spam', 5, 45.89]\n"
     ]
    }
   ],
   "source": [
    "l1=['spam',5,'pinky',45.89,'world']\n",
    "l1.remove('pinky') #removes specified value as argument\n",
    "print(l1)\n",
    "l1.pop(3)          #removes value mentioned at given index as argument\n",
    "print(l1)"
   ]
  },
  {
   "cell_type": "code",
   "execution_count": null,
   "id": "cb829dc1-9085-437d-ace7-387e21194669",
   "metadata": {},
   "outputs": [],
   "source": [
    "tuples : values inside parenthesis with values of different types\n",
    "list: values inside square bracket with values of different types\n",
    "once tuple created ,it is immutable means operations like insertion,removing elemntsor modification of values not possible \n",
    "but in list it is possible as it is mutable\n",
    "\n"
   ]
  },
  {
   "cell_type": "code",
   "execution_count": 21,
   "id": "65bff04f-7191-4746-906b-9aacf89ba464",
   "metadata": {},
   "outputs": [
    {
     "name": "stdout",
     "output_type": "stream",
     "text": [
      "<class 'int'>\n",
      "<class 'tuple'>\n"
     ]
    }
   ],
   "source": [
    "a=(42)\n",
    "print(type(a))   \n",
    "a=(42,)\n",
    "print(type(a))"
   ]
  },
  {
   "cell_type": "code",
   "execution_count": 24,
   "id": "491b5514-5ffb-4053-9b46-5f459d791ef5",
   "metadata": {},
   "outputs": [
    {
     "name": "stdout",
     "output_type": "stream",
     "text": [
      "[42, 78, 90, 34, 56]\n",
      "(7, 8, 84, 'hello', 'world')\n"
     ]
    }
   ],
   "source": [
    "a=(42,78,90,34,56)\n",
    "b=[7,8,84,'hello',\"world\"]\n",
    "print(list(a))        #using type casting to get tuples as list\n",
    "print(tuple(b))       #using type casting to get list as tuples"
   ]
  },
  {
   "cell_type": "code",
   "execution_count": 29,
   "id": "7c6a9870-b0e3-4eba-bfce-6019ca890a07",
   "metadata": {},
   "outputs": [
    {
     "name": "stdout",
     "output_type": "stream",
     "text": [
      "140452826833984 140452826833472\n",
      "[1, 2, 3, 4, 8] [1, 2, 3, 4]\n",
      "140452826833984 140452826833984\n",
      "[1, 2, 3, 4, 8, 5] [1, 2, 3, 4, 8, 5]\n"
     ]
    }
   ],
   "source": [
    "\" \" \"variables that contain list values are not necessarily lists themselves .Instead they can reference of same list objectso we make changes in anyone of the list object ,same will be reflected in other also \" \" \"\n",
    "l1=[1,2,3,4]\n",
    "l2=[1,2,3,4]\n",
    "print(id(l1),id(l2))    #just values are similar ,located at diferent address\n",
    "l1.append(8)\n",
    "print(l1,l2)\n",
    "l3=l1             #both refering to same list object\n",
    "print(id(l3),id(l1))\n",
    "l3.append(5)\n",
    "print(l1,l3)\n"
   ]
  },
  {
   "cell_type": "code",
   "execution_count": 35,
   "id": "5e856ac6-460c-4fe7-ad18-20d3eeee13df",
   "metadata": {},
   "outputs": [
    {
     "name": "stdout",
     "output_type": "stream",
     "text": [
      "l1= [1, 2, 3, 4, 5] l2= [1, 2, 3, 4, 5, 8]\n",
      "l1=[1, 2, 3, 4, 5, 9] l3=[1, 2, 3, 4, 5]\n"
     ]
    }
   ],
   "source": [
    "import copy\n",
    "l1=[1,2,3,4,5]\n",
    "l2=copy.copy(l1)\n",
    "l2.append(8)\n",
    "print(\"l1=\",l1,\"l2=\",l2)\n",
    "l3=copy.deepcopy(l1)\n",
    "l1.append(9)\n",
    "print(f\"l1={l1}\",f\"l3={l3}\")\n"
   ]
  },
  {
   "cell_type": "code",
   "execution_count": null,
   "id": "2b202f0e-4d1d-44e5-96df-1f681eb7bab9",
   "metadata": {},
   "outputs": [],
   "source": []
  }
 ],
 "metadata": {
  "kernelspec": {
   "display_name": "Python 3 (ipykernel)",
   "language": "python",
   "name": "python3"
  },
  "language_info": {
   "codemirror_mode": {
    "name": "ipython",
    "version": 3
   },
   "file_extension": ".py",
   "mimetype": "text/x-python",
   "name": "python",
   "nbconvert_exporter": "python",
   "pygments_lexer": "ipython3",
   "version": "3.10.6"
  }
 },
 "nbformat": 4,
 "nbformat_minor": 5
}
