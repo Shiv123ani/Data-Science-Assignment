{
 "cells": [
  {
   "cell_type": "code",
   "execution_count": 1,
   "id": "b8255669",
   "metadata": {},
   "outputs": [
    {
     "name": "stdout",
     "output_type": "stream",
     "text": [
      "[]\n"
     ]
    }
   ],
   "source": [
    "def filter_list(*args):\n",
    "    a=[]\n",
    "    for i in args:\n",
    "        if type(i)==int:\n",
    "            a.append(i)\n",
    "        \n",
    "    return a\n",
    "print(filter_list('a','abgh'))   "
   ]
  },
  {
   "cell_type": "code",
   "execution_count": 4,
   "id": "a7e94511",
   "metadata": {},
   "outputs": [
    {
     "name": "stdout",
     "output_type": "stream",
     "text": [
      "Enter the list elements:1 2 3 4 5 6 7\n",
      "[1, 3, 5, 7, 9, 11, 13]\n"
     ]
    }
   ],
   "source": [
    "def add_indexes(args):\n",
    "    for i in range(len(args)):\n",
    "        args[i]=args[i]+i\n",
    "    return args\n",
    "\n",
    "l=list(map(int,input(\"Enter the list elements:\").split()))\n",
    "print(add_indexes(l))\n",
    "        \n",
    "        "
   ]
  },
  {
   "cell_type": "code",
   "execution_count": 22,
   "id": "b10b9ffb",
   "metadata": {},
   "outputs": [
    {
     "name": "stdout",
     "output_type": "stream",
     "text": [
      "Enter the radius:15\n",
      "Enter the height:6\n",
      "1414.29 cubic units\n"
     ]
    }
   ],
   "source": [
    "def cone_volume(*args):\n",
    "    return f'{round(1/3*22/7*pow(args[0],2)*args[1],2)} cubic units'\n",
    "\n",
    "r,h=int(input(\"Enter the radius:\")),int(input(\"Enter the height:\"))\n",
    "print(cone_volume(r,h))"
   ]
  },
  {
   "cell_type": "code",
   "execution_count": 25,
   "id": "658d6c5e",
   "metadata": {},
   "outputs": [
    {
     "name": "stdout",
     "output_type": "stream",
     "text": [
      "Enter the triangle number:6\n",
      "21\n"
     ]
    }
   ],
   "source": [
    "def triangle(n):\n",
    "    return sum(range(1,n+1))\n",
    "\n",
    "n=int(input(\"Enter the triangle number:\"))\n",
    "print(triangle(n))"
   ]
  },
  {
   "cell_type": "code",
   "execution_count": 13,
   "id": "e8475a18",
   "metadata": {},
   "outputs": [
    {
     "name": "stdout",
     "output_type": "stream",
     "text": [
      "Enter the list elements:1 2 4 5 6 7 8 9 10\n",
      "3\n"
     ]
    }
   ],
   "source": [
    "def missing_num(l):\n",
    "    m=list(range(1,len(l)+2))\n",
    "    k=[]\n",
    "    for i in m:\n",
    "        if i not in l:\n",
    "            k.append(i)\n",
    "    return k\n",
    "    \n",
    "           \n",
    "        \n",
    "l=list(map(int,input(\"Enter the list elements:\").split()))\n",
    "print(*missing_num(l))"
   ]
  },
  {
   "cell_type": "code",
   "execution_count": null,
   "id": "4eda4b01",
   "metadata": {},
   "outputs": [],
   "source": []
  }
 ],
 "metadata": {
  "kernelspec": {
   "display_name": "Python 3 (ipykernel)",
   "language": "python",
   "name": "python3"
  },
  "language_info": {
   "codemirror_mode": {
    "name": "ipython",
    "version": 3
   },
   "file_extension": ".py",
   "mimetype": "text/x-python",
   "name": "python",
   "nbconvert_exporter": "python",
   "pygments_lexer": "ipython3",
   "version": "3.9.7"
  }
 },
 "nbformat": 4,
 "nbformat_minor": 5
}
