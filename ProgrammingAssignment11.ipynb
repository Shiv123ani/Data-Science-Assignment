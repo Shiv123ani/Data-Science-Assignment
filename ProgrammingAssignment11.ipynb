{
 "cells": [
  {
   "cell_type": "code",
   "execution_count": 12,
   "id": "35ffe885",
   "metadata": {},
   "outputs": [
    {
     "name": "stdout",
     "output_type": "stream",
     "text": [
      "Enter the string:Hello I am very intelligent\n",
      "Enter the length k of word to remove from string: 12\n",
      "Not found\n"
     ]
    }
   ],
   "source": [
    "s=input(\"Enter the string:\").split()\n",
    "a=int(input(\"Enter the length k of word to remove from string: \"))\n",
    "for i in s:\n",
    "    if len(i)>a:\n",
    "        print(i)\n",
    "        break\n",
    "else:\n",
    "    print(\"Not found\")\n"
   ]
  },
  {
   "cell_type": "code",
   "execution_count": 33,
   "id": "7da439d5",
   "metadata": {},
   "outputs": [
    {
     "name": "stdout",
     "output_type": "stream",
     "text": [
      "Enter the string:Hello I am very intelligent\n",
      "Enter the ith character to remove from string: 1\n",
      "1\n",
      "Hllo I am very intelligent\n"
     ]
    }
   ],
   "source": [
    "s=list(input(\"Enter the string:\"))\n",
    "a=int(input(\"Enter the ith character to remove from string: \"))\n",
    "print(a)\n",
    "for i in s:\n",
    "    s.remove(s[a])\n",
    "    break\n",
    "print(''.join(s))"
   ]
  },
  {
   "cell_type": "code",
   "execution_count": 38,
   "id": "444f1c3f",
   "metadata": {},
   "outputs": [
    {
     "name": "stdout",
     "output_type": "stream",
     "text": [
      "Enter the string:Hello I am very intelligent\n",
      "Enter the ith character to remove from string: 1\n",
      "16\n",
      "1\n",
      "['H', 'e', 'l', 'l', 'o', ' ', 'I', ' ', 'a', 'm', ' ', 'v', 'e', 'r', 'y', ' ', 'i', 'n', 't', 'e', 'l', 'l', 'i', 'g', 'e', 'n', 't'] e\n",
      "['H', 'l', 'l', 'o', ' ', 'I', ' ', 'a', 'm', ' ', 'v', 'e', 'r', 'y', ' ', 'i', 'n', 't', 'e', 'l', 'l', 'i', 'g', 'e', 'n', 't'] l\n",
      "['H', 'l', 'o', ' ', 'I', ' ', 'a', 'm', ' ', 'v', 'e', 'r', 'y', ' ', 'i', 'n', 't', 'e', 'l', 'l', 'i', 'g', 'e', 'n', 't'] l\n",
      "['H', 'o', ' ', 'I', ' ', 'a', 'm', ' ', 'v', 'e', 'r', 'y', ' ', 'i', 'n', 't', 'e', 'l', 'l', 'i', 'g', 'e', 'n', 't'] o\n",
      "['H', ' ', 'I', ' ', 'a', 'm', ' ', 'v', 'e', 'r', 'y', ' ', 'i', 'n', 't', 'e', 'l', 'l', 'i', 'g', 'e', 'n', 't']  \n",
      "['H', 'I', ' ', 'a', 'm', ' ', 'v', 'e', 'r', 'y', ' ', 'i', 'n', 't', 'e', 'l', 'l', 'i', 'g', 'e', 'n', 't'] I\n",
      "['H', ' ', 'a', 'm', ' ', 'v', 'e', 'r', 'y', ' ', 'i', 'n', 't', 'e', 'l', 'l', 'i', 'g', 'e', 'n', 't']  \n",
      "['H', 'a', 'm', ' ', 'v', 'e', 'r', 'y', ' ', 'i', 'n', 't', 'e', 'l', 'l', 'i', 'g', 'e', 'n', 't'] a\n",
      "['H', 'm', ' ', 'v', 'e', 'r', 'y', ' ', 'i', 'n', 't', 'e', 'l', 'l', 'i', 'g', 'e', 'n', 't'] m\n",
      "['H', ' ', 'v', 'e', 'r', 'y', ' ', 'i', 'n', 't', 'e', 'l', 'l', 'i', 'g', 'e', 'n', 't']  \n",
      "['H', 'v', 'e', 'r', 'y', ' ', 'i', 'n', 't', 'e', 'l', 'l', 'i', 'g', 'e', 'n', 't'] v\n",
      "['H', 'e', 'r', 'y', ' ', 'i', 'n', 't', 'e', 'l', 'l', 'i', 'g', 'e', 'n', 't'] e\n",
      "['H', 'r', 'y', ' ', 'i', 'n', 't', 'e', 'l', 'l', 'i', 'g', 'e', 'n', 't'] r\n",
      "['H', 'y', ' ', 'i', 'n', 't', 'e', 'l', 'l', 'i', 'g', 'e', 'n', 't'] y\n",
      "['H', ' ', 'i', 'n', 't', 'e', 'l', 'l', 'i', 'g', 'e', 'n', 't']\n"
     ]
    }
   ],
   "source": [
    "s=list(input(\"Enter the string:\"))\n",
    "a=int(input(\"Enter the ith character to remove from string: \"))\n",
    "print(s.index('i'))\n",
    "print(a)                                                               #Have a doubt\n",
    "for i in s:\n",
    "    print(s,s[a])\n",
    "    s.remove(s[a])\n",
    "    \n",
    "print(s)"
   ]
  },
  {
   "cell_type": "code",
   "execution_count": 44,
   "id": "6e5b664d",
   "metadata": {},
   "outputs": [
    {
     "name": "stdout",
     "output_type": "stream",
     "text": [
      "Enter the string: Hello I am very intelligent\n",
      "After splitting string:  ['H', 'e', 'l', 'l', 'o', ' ', 'I', ' ', 'a', 'm', ' ', 'v', 'e', 'r', 'y', ' ', 'i', 'n', 't', 'e', 'l', 'l', 'i', 'g', 'e', 'n', 't']\n",
      "After again joining:  H e l l o   I   a m   v e r y   i n t e l l i g e n t\n"
     ]
    }
   ],
   "source": [
    "s=list(input('Enter the string: '))\n",
    "print(\"After splitting string: \",s)\n",
    "print(\"After again joining: \",\" \".join(s))\n"
   ]
  },
  {
   "cell_type": "code",
   "execution_count": 59,
   "id": "686f12b4",
   "metadata": {},
   "outputs": [
    {
     "name": "stdout",
     "output_type": "stream",
     "text": [
      "Enter the binary string: 10101010\n",
      "Binary String\n"
     ]
    }
   ],
   "source": [
    "s=set(input('Enter the binary string: '))\n",
    "f={'1','0'}\n",
    "\n",
    "if f==s or s=={'0'} or s=={'1'}:\n",
    "    print(\"Binary String\")\n",
    "else:\n",
    "    print(\"Non Binary String\")\n",
    "    \n",
    "        "
   ]
  },
  {
   "cell_type": "code",
   "execution_count": 61,
   "id": "3e107086",
   "metadata": {},
   "outputs": [
    {
     "name": "stdout",
     "output_type": "stream",
     "text": [
      "Enter the binary string: 1010hjdfgh12\n",
      "Non Binary String\n"
     ]
    }
   ],
   "source": [
    "#Another method\n",
    "\n",
    "s=input('Enter the binary string: ')\n",
    "if s.count('1')+s.count('0')==len(s):\n",
    "    print('Binary String')\n",
    "else:\n",
    "    print('Non Binary String')\n",
    "\n"
   ]
  },
  {
   "cell_type": "code",
   "execution_count": 69,
   "id": "1ec746e6",
   "metadata": {},
   "outputs": [
    {
     "name": "stdout",
     "output_type": "stream",
     "text": [
      "Enter the string 1: hello i am fine\n",
      "Enter the string 2: hii i am fine\n",
      "['hello']\n"
     ]
    }
   ],
   "source": [
    "s1=input(\"Enter the string 1: \").split()\n",
    "s2=input(\"Enter the string 2: \").split()\n",
    "s=[]\n",
    "for i in s1:\n",
    "    if i not in s2:\n",
    "        s.append(i)\n",
    "print(s)\n",
    "        \n",
    "\n",
    "\n",
    "\n"
   ]
  },
  {
   "cell_type": "code",
   "execution_count": 73,
   "id": "04be75ec",
   "metadata": {},
   "outputs": [
    {
     "name": "stdout",
     "output_type": "stream",
     "text": [
      "Enter the string: hello i am fine\n",
      "  h   e   l     o     i     a   m     f     n    \n"
     ]
    }
   ],
   "source": [
    "s=list(input(\"Enter the string: \"))\n",
    "k=' '\n",
    "for i in s:\n",
    "    if i not in k:\n",
    "        k=k+i\n",
    "    k=k+' '\n",
    "print(' '.join(k))\n"
   ]
  },
  {
   "cell_type": "code",
   "execution_count": 81,
   "id": "b5f4d413",
   "metadata": {},
   "outputs": [
    {
     "name": "stdout",
     "output_type": "stream",
     "text": [
      "Enter the value: hgjh&\n",
      "Special character\n"
     ]
    }
   ],
   "source": [
    "a=input(\"Enter the value: \")\n",
    "if a.isalpha() or a.isdigit():\n",
    "    print('Not a special character')\n",
    "else:\n",
    "    print('Special character')"
   ]
  },
  {
   "cell_type": "code",
   "execution_count": null,
   "id": "b6bb7e78",
   "metadata": {},
   "outputs": [],
   "source": []
  }
 ],
 "metadata": {
  "kernelspec": {
   "display_name": "Python 3 (ipykernel)",
   "language": "python",
   "name": "python3"
  },
  "language_info": {
   "codemirror_mode": {
    "name": "ipython",
    "version": 3
   },
   "file_extension": ".py",
   "mimetype": "text/x-python",
   "name": "python",
   "nbconvert_exporter": "python",
   "pygments_lexer": "ipython3",
   "version": "3.9.7"
  }
 },
 "nbformat": 4,
 "nbformat_minor": 5
}
